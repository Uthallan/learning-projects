{
 "cells": [
  {
   "cell_type": "code",
   "execution_count": 1,
   "metadata": {},
   "outputs": [],
   "source": [
    "import sympy as sym\n",
    "\n",
    "x,y,z = sym.symbols('x,y,z')"
   ]
  },
  {
   "cell_type": "markdown",
   "metadata": {},
   "source": [
    "# Identify the coordinates of any local and absolute extreme points and inflection points. Graph the function y=x^2 - 3x + 8"
   ]
  },
  {
   "cell_type": "markdown",
   "metadata": {},
   "source": [
    "### To find the critical points and points of​ inflection, find the first and second derivatives"
   ]
  },
  {
   "cell_type": "code",
   "execution_count": 2,
   "metadata": {},
   "outputs": [
    {
     "name": "stdout",
     "output_type": "stream",
     "text": [
      "Expression: \n"
     ]
    },
    {
     "data": {
      "text/latex": [
       "$\\displaystyle \\frac{8 x}{x^{2} + 36}$"
      ],
      "text/plain": [
       "8*x/(x**2 + 36)"
      ]
     },
     "metadata": {},
     "output_type": "display_data"
    },
    {
     "name": "stdout",
     "output_type": "stream",
     "text": [
      "First Derivative: \n"
     ]
    },
    {
     "data": {
      "text/latex": [
       "$\\displaystyle - \\frac{16 x^{2}}{\\left(x^{2} + 36\\right)^{2}} + \\frac{8}{x^{2} + 36}$"
      ],
      "text/plain": [
       "-16*x**2/(x**2 + 36)**2 + 8/(x**2 + 36)"
      ]
     },
     "metadata": {},
     "output_type": "display_data"
    },
    {
     "name": "stdout",
     "output_type": "stream",
     "text": [
      "Second Derivative: \n"
     ]
    },
    {
     "data": {
      "text/latex": [
       "$\\displaystyle \\frac{64 x^{3}}{\\left(x^{2} + 36\\right)^{3}} - \\frac{48 x}{\\left(x^{2} + 36\\right)^{2}}$"
      ],
      "text/plain": [
       "64*x**3/(x**2 + 36)**3 - 48*x/(x**2 + 36)**2"
      ]
     },
     "metadata": {},
     "output_type": "display_data"
    }
   ],
   "source": [
    "# INPUT GIVEN FUNCTION\n",
    "fx = (3*x)+(x**2 + 36)\n",
    "\n",
    "# FIND FIRST DERIVATIVE\n",
    "fpx = sym.diff(fx)\n",
    "# FIND SECOND DERIVATIVE\n",
    "fppx = sym.diff(fpx)\n",
    "\n",
    "print(\"Expression: \")\n",
    "display(fx)\n",
    "print(\"First Derivative: \")\n",
    "display(fpx)\n",
    "print(\"Second Derivative: \")\n",
    "display(fppx)\n"
   ]
  },
  {
   "cell_type": "markdown",
   "metadata": {},
   "source": [
    "### To find the​ x-coordinates of any possible local​ extrema, solve fpx = 0"
   ]
  },
  {
   "cell_type": "code",
   "execution_count": 3,
   "metadata": {},
   "outputs": [
    {
     "ename": "PolynomialError",
     "evalue": "multivariate polynomials are not supported",
     "output_type": "error",
     "traceback": [
      "\u001b[1;31m---------------------------------------------------------------------------\u001b[0m",
      "\u001b[1;31mPolynomialError\u001b[0m                           Traceback (most recent call last)",
      "\u001b[1;32m~\\AppData\\Local\\Temp/ipykernel_12268/1508104638.py\u001b[0m in \u001b[0;36m<module>\u001b[1;34m\u001b[0m\n\u001b[0;32m      1\u001b[0m \u001b[1;31m# CRITICAL POINTS WHERE THE TANGENT TO THE FUNCTIONS CURVE IS ZERO.\u001b[0m\u001b[1;33m\u001b[0m\u001b[1;33m\u001b[0m\u001b[0m\n\u001b[0;32m      2\u001b[0m \u001b[1;31m# EACH POINT HERE IS A TOP OR BOTTOM OF A CURVED SEGMENT\u001b[0m\u001b[1;33m\u001b[0m\u001b[1;33m\u001b[0m\u001b[0m\n\u001b[1;32m----> 3\u001b[1;33m \u001b[0mcriticalPoints\u001b[0m \u001b[1;33m=\u001b[0m \u001b[0msym\u001b[0m\u001b[1;33m.\u001b[0m\u001b[0mroots\u001b[0m\u001b[1;33m(\u001b[0m\u001b[0mfpx\u001b[0m\u001b[1;33m)\u001b[0m\u001b[1;33m\u001b[0m\u001b[1;33m\u001b[0m\u001b[0m\n\u001b[0m\u001b[0;32m      4\u001b[0m \u001b[0mcriticalPoints\u001b[0m\u001b[1;33m\u001b[0m\u001b[1;33m\u001b[0m\u001b[0m\n\u001b[0;32m      5\u001b[0m \u001b[0mdict\u001b[0m\u001b[1;33m.\u001b[0m\u001b[0mkeys\u001b[0m\u001b[1;33m(\u001b[0m\u001b[0mcriticalPoints\u001b[0m\u001b[1;33m)\u001b[0m\u001b[1;33m\u001b[0m\u001b[1;33m\u001b[0m\u001b[0m\n",
      "\u001b[1;32m~\\AppData\\Local\\Programs\\Python\\Python310\\lib\\site-packages\\sympy\\polys\\polyroots.py\u001b[0m in \u001b[0;36mroots\u001b[1;34m(f, auto, cubics, trig, quartics, quintics, multiple, filter, predicate, *gens, **flags)\u001b[0m\n\u001b[0;32m    914\u001b[0m \u001b[1;33m\u001b[0m\u001b[0m\n\u001b[0;32m    915\u001b[0m         \u001b[1;32mif\u001b[0m \u001b[0mf\u001b[0m\u001b[1;33m.\u001b[0m\u001b[0mis_multivariate\u001b[0m\u001b[1;33m:\u001b[0m\u001b[1;33m\u001b[0m\u001b[1;33m\u001b[0m\u001b[0m\n\u001b[1;32m--> 916\u001b[1;33m             \u001b[1;32mraise\u001b[0m \u001b[0mPolynomialError\u001b[0m\u001b[1;33m(\u001b[0m\u001b[1;34m'multivariate polynomials are not supported'\u001b[0m\u001b[1;33m)\u001b[0m\u001b[1;33m\u001b[0m\u001b[1;33m\u001b[0m\u001b[0m\n\u001b[0m\u001b[0;32m    917\u001b[0m \u001b[1;33m\u001b[0m\u001b[0m\n\u001b[0;32m    918\u001b[0m     \u001b[1;32mdef\u001b[0m \u001b[0m_update_dict\u001b[0m\u001b[1;33m(\u001b[0m\u001b[0mresult\u001b[0m\u001b[1;33m,\u001b[0m \u001b[0mcurrentroot\u001b[0m\u001b[1;33m,\u001b[0m \u001b[0mk\u001b[0m\u001b[1;33m)\u001b[0m\u001b[1;33m:\u001b[0m\u001b[1;33m\u001b[0m\u001b[1;33m\u001b[0m\u001b[0m\n",
      "\u001b[1;31mPolynomialError\u001b[0m: multivariate polynomials are not supported"
     ]
    }
   ],
   "source": [
    "# CRITICAL POINTS WHERE THE TANGENT TO THE FUNCTIONS CURVE IS ZERO.\n",
    "# EACH POINT HERE IS A TOP OR BOTTOM OF A CURVED SEGMENT\n",
    "criticalPoints = sym.roots(fpx)\n",
    "criticalPoints\n",
    "dict.keys(criticalPoints)\n",
    "for i in criticalPoints:\n",
    "    print(\"At x = \" + str(i) + \" the derivative is zero\")\n",
    "\n"
   ]
  },
  {
   "cell_type": "markdown",
   "metadata": {},
   "source": [
    "### Now we can find out if they are extrema or not. Take the second derivative of the critical points. Positive or negative results will tell us if the slope at these points is concave up or concave down. If it is either then it must be a local minimum or maximum. If it is neither than we know nothing."
   ]
  },
  {
   "cell_type": "code",
   "execution_count": null,
   "metadata": {},
   "outputs": [],
   "source": [
    "# PUT EACH CRITICAL POINT INTO THE SECOND DERIVATIVE FUNCTION\n",
    "for c in criticalPoints:\n",
    "    result = fppx.subs(x,c)\n",
    "    if result > 0:\n",
    "        print(\"-------------------------------------------------\")\n",
    "        print(\"The curve near critical point (\" + str(c) + \",\" + str(criticalPoints[c]) + \") is concave UP, like the outline of a hill\")\n",
    "        print(\"This is because f''(\" + str(c) + \") = \" + str(result))\n",
    "        print(\"f(\" + str(c) + \") = \" + str(fx.subs(x,c)))\n",
    "        print(\"-------------------------------------------------\")\n",
    "    if result < 0:\n",
    "        print(\"-------------------------------------------------\")\n",
    "        print(\"The curve near critical point (\" + str(c) + \",\" + str(criticalPoints[c]) + \") is concave DOWN, like the outline of a valley\")\n",
    "        print(\"This is because f''(\" + str(c) + \") = \" + str(result))\n",
    "        print(\"f(\" + str(c) + \") = \" + str(fx.subs(x,c)))\n",
    "        print(\"-------------------------------------------------\")\n",
    "    if result == 0:\n",
    "        print(\"The curve near critical point (\" + str(c) + \",\" + str(criticalPoints[c]) + \") is ZERO\")\n",
    "print(\"The highest and lowest of the resulting f(x) values are the max/min local extrema\")\n"
   ]
  },
  {
   "cell_type": "code",
   "execution_count": null,
   "metadata": {},
   "outputs": [],
   "source": [
    "inflectionPoints = sym.roots(fppx)\n",
    "dict.keys(inflectionPoints)\n",
    "for c in inflectionPoints:\n",
    "    print(\"At x = \" + str(c) + \" the second derivative is zero\")\n",
    "    print(\"f(\" + str(c) + \") = \" + str(fx.subs(x,c)))"
   ]
  }
 ],
 "metadata": {
  "interpreter": {
   "hash": "fc34b914d3adb7e79222934a3e1b9827cfc683c842553c11a282046f0cbdd9a0"
  },
  "kernelspec": {
   "display_name": "Python 3.10.0 64-bit",
   "language": "python",
   "name": "python3"
  },
  "language_info": {
   "codemirror_mode": {
    "name": "ipython",
    "version": 3
   },
   "file_extension": ".py",
   "mimetype": "text/x-python",
   "name": "python",
   "nbconvert_exporter": "python",
   "pygments_lexer": "ipython3",
   "version": "3.10.0"
  },
  "orig_nbformat": 4
 },
 "nbformat": 4,
 "nbformat_minor": 2
}
